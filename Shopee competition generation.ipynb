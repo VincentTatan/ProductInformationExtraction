{
 "cells": [
  {
   "cell_type": "code",
   "execution_count": null,
   "metadata": {},
   "outputs": [],
   "source": [
    "import numpy as np # linear algebra\n",
    "import pandas as pd # data processing, CSV file I/O (e.g. pd.read_csv)\n",
    "import json\n",
    "import pprint\n",
    "\n",
    "import os, math\n",
    "print(os.listdir('/new_software/Shopee Competition'))"
   ]
  },
  {
   "cell_type": "code",
   "execution_count": null,
   "metadata": {},
   "outputs": [],
   "source": [
    "def generateDf(filename,series_list):\n",
    "    drive_path = '/new_software/Shopee Competition/' + filename\n",
    "    category = filename.split('_')[0]\n",
    "    #     For testing of 100 rows from each file\n",
    "    df_category = pd.read_csv(drive_path)\n",
    "    # Adding on columns with default values as nan\n",
    "    for series in series_list:\n",
    "        df_category[series]=np.nan\n",
    "    return df_category"
   ]
  },
  {
   "cell_type": "code",
   "execution_count": null,
   "metadata": {},
   "outputs": [],
   "source": [
    "def generateSubmissionFormatFromDf(dfList,categories):\n",
    "  df_concat = pd.DataFrame(columns=['id','tagging'])\n",
    "  for df_category in dfList:\n",
    "    df_cols = df_category.columns.values\n",
    "    category_count = 0\n",
    "    print(df_category.count().sum())\n",
    "    df_temp = pd.DataFrame()\n",
    "    for i in range (len(df_category.columns)):\n",
    "      if i > 2:\n",
    "        print('_' + df_cols[i])\n",
    "        if categories[category_count] == 'beauty':\n",
    "            df_temp['id'] = [str(s) + '_' + df_cols[i].replace(\" \", \"_\") for s in df_category.itemid]\n",
    "        else:\n",
    "            df_temp['id'] = [str(s) + '_' + df_cols[i] for s in df_category.itemid]\n",
    "        df_temp['tagging'] = [predict for predict in df_category.iloc[:,i]]\n",
    "        df_concat = pd.concat([df_concat, df_temp])\n",
    "    category_count = category_count+1\n",
    "  df_concat = df_concat.sort_values('id').reset_index(drop=True)\n",
    "  bool_series = pd.isnull(df_concat['tagging'])\n",
    "  df_concat['tagging'][bool_series] = 0\n",
    "  df_concat['tagging'] = df_concat['tagging'].astype(int)\n",
    "  return df_concat"
   ]
  },
  {
   "cell_type": "code",
   "execution_count": null,
   "metadata": {},
   "outputs": [],
   "source": [
    "def generateSubmissionFormat(listOfData,path = '/new_software/Shopee Competition/' ):\n",
    "  df_concat = pd.DataFrame(columns=['id','tagging'])\n",
    "  for filename in listOfData:\n",
    "    drive_path = path+filename\n",
    "    category = filename.split('_')[0]\n",
    "#     For testing of 100 rows from each file\n",
    "    df_category = pd.read_csv(drive_path, nrows=100)\n",
    "    # For loading the full data from CSV files\n",
    "#     df_category = pd.read_csv(drive_path)\n",
    "    df_cols = df_category.columns.values\n",
    "    \n",
    "    print(df_category.count().sum())\n",
    "    df_temp = pd.DataFrame()\n",
    "    for i in range (len(df_category.columns)):\n",
    "      if i > 2:\n",
    "        print('_' + df_cols[i])\n",
    "        if category == 'beauty':\n",
    "            df_temp['id'] = [str(s) + '_' + df_cols[i].replace(\" \", \"_\") for s in df_category.itemid]\n",
    "        else:\n",
    "            df_temp['id'] = [str(s) + '_' + df_cols[i] for s in df_category.itemid]\n",
    "        df_temp['tagging'] = [predict for predict in df_category.iloc[:,i]]\n",
    "        print(df_temp.head())\n",
    "        df_concat = pd.concat([df_concat, df_temp])\n",
    "  df_concat = df_concat.sort_values('id').reset_index(drop=True)\n",
    "  bool_series = pd.isnull(df_concat['tagging'])\n",
    "  df_concat['tagging'][bool_series] = 0\n",
    "  df_concat['tagging'] = df_concat['tagging'].astype(int)\n",
    "  return df_concat"
   ]
  },
  {
   "cell_type": "code",
   "execution_count": null,
   "metadata": {},
   "outputs": [],
   "source": [
    "def df_word_process(df,dfjson): \n",
    "    for index, row in df.iterrows():\n",
    "        title = row[\"title\"].lower()\n",
    "        for first_word in dfjson['first_word'].unique():  \n",
    "            if first_word in title:\n",
    "                try:\n",
    "                    print(\"first_word found \",first_word)\n",
    "                    another_list = dfjson[dfjson[\"first_word\"]== first_word].index\n",
    "                    for attribute in another_list:\n",
    "                        if attribute in title:\n",
    "                            dfjsonT = dfjson.T\n",
    "                            value = dfjsonT.loc[lambda dfjsonT: dfjsonT[attribute].notnull(),attribute].values[0]\n",
    "                            col_attribute = dfjson[dfjson.index==attribute][\"type\"][0]\n",
    "                            df[col_attribute][index] = value\n",
    "                            print(\"attribute found \",col_attribute, \" with value \",value )\n",
    "                            break\n",
    "                        else:\n",
    "                            print(\"first word found \",first_word, \" but no specific attribute \",attribute,\" in \",title)\n",
    "                except:\n",
    "                    print(\"error detected\")\n",
    "            else:\n",
    "                print(\"first_word not found \",first_word )\n",
    "    return df\n",
    "\n",
    "def get_json_from_filename(filename_json):\n",
    "    drive_path_json = '/new_software/Shopee Competition/' + filename_json\n",
    "    dfjson = pd.read_json(drive_path_json,orient=\"columns\")\n",
    "    dfjsonT = dfjson.T\n",
    "    dfjson['first_word'] = dfjson.index.str.split().str.get(0)\n",
    "    dfjson[\"type\"] = dfjson.apply(lambda row: row.first_valid_index(), axis=1)\n",
    "    return dfjson\n"
   ]
  },
  {
   "cell_type": "code",
   "execution_count": null,
   "metadata": {},
   "outputs": [],
   "source": [
    "# Read the json files\n",
    "dfjson_mobile = get_json_from_filename('mobile_profile_train.json')\n",
    "dfjson_fashion = get_json_from_filename('fashion_profile_train.json')\n",
    "dfjson_beauty = get_json_from_filename('beauty_profile_train.json')"
   ]
  },
  {
   "cell_type": "code",
   "execution_count": null,
   "metadata": {},
   "outputs": [],
   "source": [
    "# Add on specifications\n",
    "mobile_specifications = ['Operating System', 'Features', 'Network Connections', 'Memory RAM',\n",
    "     'Warranty Period', 'Storage Capacity', 'Color Family',\n",
    "       'Camera', 'Phone Screen Size']\n",
    "fashion_specifications = ['Pattern', 'Collar Type', 'Fashion Trend', 'Clothing Material','Sleeves']\n",
    "beauty_specifications = ['Benefits', 'Brand', 'Colour_group', 'Product_texture', 'Skin_type']\n",
    "\n",
    "# Read the df category mobile\n",
    "df_category_val_mobile = generateDf('mobile_data_info_val_competition.csv',mobile_specifications)\n",
    "df_category_val_mobile_100 = df_category_val_mobile.head(100)\n",
    "df_category_val_mobile_10 = df_category_val_mobile.head(10)\n",
    "df_category_val_mobile_5 = df_category_val_mobile.head(5)\n",
    "\n",
    "# Read the df category beauty\n",
    "df_category_val_beauty = generateDf('beauty_data_info_val_competition.csv',beauty_specifications)\n",
    "df_category_val_beauty_100 = df_category_val_beauty.head(100)\n",
    "df_category_val_beauty_10 = df_category_val_beauty.head(10)\n",
    "df_category_val_beauty_5 = df_category_val_beauty.head(5)\n",
    "\n",
    "# Read the df category fashine\n",
    "df_category_val_fashion = generateDf('fashion_data_info_val_competition.csv',fashion_specifications)\n",
    "df_category_val_fashion_100 = df_category_val_fashion.head(100)\n",
    "df_category_val_fashion_10 = df_category_val_fashion.head(10)\n",
    "df_category_val_fashion_5 = df_category_val_fashion.head(5)"
   ]
  },
  {
   "cell_type": "code",
   "execution_count": null,
   "metadata": {},
   "outputs": [],
   "source": [
    "# Word processing for each mobile, beauty and fashion\n",
    "df_category_val_mobile = df_word_process(df_category_val_mobile,dfjson_mobile)\n",
    "df_category_val_beauty = df_word_process(df_category_val_beauty,dfjson_beauty)\n",
    "df_category_val_fashion = df_word_process(df_category_val_fashion,dfjson_fashion)"
   ]
  },
  {
   "cell_type": "code",
   "execution_count": null,
   "metadata": {
    "scrolled": true
   },
   "outputs": [],
   "source": [
    "# Listings df to be transformed to submission formats with categories label\n",
    "list_df_submission = [df_category_val_mobile,df_category_val_beauty,df_category_val_fashion]\n",
    "categories = ['mobile','beauty','fashion']\n",
    "df_submission = generateSubmissionFormatFromDf(list_df_submission,categories)"
   ]
  },
  {
   "cell_type": "code",
   "execution_count": null,
   "metadata": {},
   "outputs": [],
   "source": [
    "# Print submission to csv\n",
    "df_submission.to_csv('submission.csv')"
   ]
  },
  {
   "cell_type": "markdown",
   "metadata": {},
   "source": [
    "# Extra line of codes (other approaches)"
   ]
  },
  {
   "cell_type": "code",
   "execution_count": null,
   "metadata": {},
   "outputs": [],
   "source": [
    "# df_submission = generateSubmissionFormat(['mobile_data_info_train_competition.csv','fashion_data_info_train_competition.csv','beauty_data_info_train_competition.csv'])\n",
    "df_submission = generateSubmissionFormat(['mobile_data_info_train_competition.csv','beauty_data_info_train_competition.csv'])\n",
    "\n",
    "# df_submission = generateSubmissionFormat(['mobile_data_info_val_competition.csv','fashion_data_info_val_competition.csv','beauty_data_info_val_competition.csv'])\n"
   ]
  },
  {
   "cell_type": "code",
   "execution_count": null,
   "metadata": {},
   "outputs": [],
   "source": [
    "\n",
    "# def df_word_process(df): \n",
    "#     for index, row in df_category_val.iterrows():\n",
    "#         title = row[\"title\"].lower()\n",
    "#         for k,listings in spec_word.items():\n",
    "#             for first_word in listings:\n",
    "#                 if first_word in title:\n",
    "#                     try:\n",
    "#                         print(\"first_word found \",first_word)\n",
    "#                         another_list = dfjson[dfjson[\"first_word\"]== first_word].index\n",
    "#                         for attribute in another_list:\n",
    "#                             if attribute in title:                \n",
    "#                                 value = dfjsonT.loc[lambda dfjsonT: dfjsonT[attribute].notnull(),attribute].values[0]\n",
    "#                                 row[\"attribute\"] = value\n",
    "#                                 print(\"attribute found \",attribute, \" with value \",value )\n",
    "#                                 break\n",
    "#                                 break\n",
    "#                             else:\n",
    "#                                 print(\"first word found \",first_word, \" but no specific attribute \",attribute,\" in \",title)\n",
    "#                     except:\n",
    "#                         print(\"error detected\")\n",
    "#             else:\n",
    "#                 print(\"first_word not found \",first_word )\n",
    "\n",
    "\n",
    "# for index, row in df_category_val.iterrows():\n",
    "#     title = row[\"title\"].lower()\n",
    "#     for column in dfjson.index:  \n",
    "#         if column in title:\n",
    "#             try:\n",
    "#                 value = dfjsonT.loc[lambda dfjsonT: dfjsonT[column].notnull(),column].values[0]\n",
    "#                 row[\"column\"] = value\n",
    "#                 print(\"column found \",column, \" with value \",value )\n",
    "#             except:\n",
    "#                 print(\"error detected\")\n",
    "#         else:\n",
    "#             print(\"column not found \",column )\n",
    "    \n",
    "    \n",
    "#     for text in title.split(\" \"):\n",
    "#         try:\n",
    "#             column = dfjsonT.loc[lambda dfjsonT: dfjsonT[text].notnull(),'text'].index[0]\n",
    "#             value = dfjsonT.loc[lambda dfjsonT: dfjsonT[text].notnull(),'text'].values[0]\n",
    "#             row[\"column\"] = value\n",
    "#             print(\"this is found\",column,\" \", value,\" \", row)\n",
    "#         except:\n",
    "#             print(text, \" is not found\")\n",
    "#             pass\n",
    "\n",
    "# 2 words counts\n",
    "# 3 words counts"
   ]
  }
 ],
 "metadata": {
  "kernelspec": {
   "display_name": "Python 3",
   "language": "python",
   "name": "python3"
  },
  "language_info": {
   "codemirror_mode": {
    "name": "ipython",
    "version": 3
   },
   "file_extension": ".py",
   "mimetype": "text/x-python",
   "name": "python",
   "nbconvert_exporter": "python",
   "pygments_lexer": "ipython3",
   "version": "3.7.1"
  }
 },
 "nbformat": 4,
 "nbformat_minor": 2
}
